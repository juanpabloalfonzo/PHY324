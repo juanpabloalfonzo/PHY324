{
 "cells": [
  {
   "cell_type": "markdown",
   "metadata": {},
   "source": [
    "<h1> Python Tutorial for Physicists Part 1 </h1>\n",
    "Material Taken from <a href=\"https://colab.research.google.com/drive/19hJcPbFpnKiHnmY33N8uxhTglJPW6ce1\" target=\"_blank\">Basic Physics Python Tutorial</a> by Erik Gillis, with minor adjustments by Wentao Cui"
   ]
  },
  {
   "cell_type": "markdown",
   "metadata": {},
   "source": [
    "<h1> Python and the Jupyter Notebook </h1>\n",
    "\n",
    "<h2> What is Python? </h2>\n",
    "\n",
    "Python is a popular and versatile programming language used for a wide variety of tasks, ranging from software development to data science and machine learning to web development to scientific programming like physics.\n",
    "\n",
    "Compared to other languages it has a simple syntax similar to English, making it quite simple to learn. Furthermore, it is an interpreted language, meaning that code can be executed as soon as it is written.\n",
    "\n",
    "Python can be written in any text editor like as Notepad or vim. Your file can then be run in a Python console. Alternatively, you can write Python in an Integrated Development Environment (IDE) which improves the ease with which you can write/ run code, has a bunch of debugging features, manage large collections of Python files, and so on. These include Spyder, Pycharm, Atom, and so on. In the physics community Spyder is quite popular and used in PHY224, so I'd recommend using that.\n",
    "\n",
    "In this tutorial we will go over the basic functionality of Python, including basic syntax, datatypes, functions, loops and conditionals, working with directories, and reading/ writing data. Basic features of the numpy and matplotlib libraries will also be introduced, most notably the numpy array datatype and basic plotting functions. No previous programming experience is needed!"
   ]
  },
  {
   "cell_type": "markdown",
   "metadata": {},
   "source": [
    "<h2> The Jupyter Notebook </h2>\n",
    "\n",
    "For the purposes of this tutorial, we will be using a Jupyter Notebook. This provides a dynamic environment to write, run, and share code, equipped with rich-text (in the Markdown syntax).\n",
    "\n",
    "The notebook is divided into cells which separate the text you're reading with the code that you run. Below is a code cell. Code cells execute their code, and output whatever you wrote on the last line for you to read. To execute a particular line of code, we click it and hit Control/Command + Enter."
   ]
  },
  {
   "cell_type": "code",
   "execution_count": 2,
   "metadata": {},
   "outputs": [
    {
     "name": "stdout",
     "output_type": "stream",
     "text": [
      "Hello World\n"
     ]
    }
   ],
   "source": [
    "print(\"Hello World\")"
   ]
  },
  {
   "cell_type": "markdown",
   "metadata": {},
   "source": [
    "That's the most basic of basic examples, but in the rest of the notebook we'll dive into much more sophisticated applications. To edit any cells, either double-click or press enter."
   ]
  },
  {
   "cell_type": "markdown",
   "metadata": {},
   "source": [
    "<h1> Data Types </h1>\n",
    "\n",
    "The primary role of computer programs in physics (and elsewhere) is to manipluate and transform data in ways that would be too tedious or complicated for us to do quickly or reliably. To this end, python has a few built-in data types that we'll talk about here."
   ]
  },
  {
   "cell_type": "markdown",
   "metadata": {},
   "source": [
    "<h2> Integers </h2>\n",
    "\n",
    "Are exactly what they sound like. They're used to represent whole numbers and support all the operations that you'd expect from them. Run these code cells as you go to see the output.\n",
    "\n",
    "We can add, subtract, multiply, or divide:"
   ]
  },
  {
   "cell_type": "code",
   "execution_count": 3,
   "metadata": {},
   "outputs": [
    {
     "data": {
      "text/plain": [
       "4"
      ]
     },
     "execution_count": 3,
     "metadata": {},
     "output_type": "execute_result"
    }
   ],
   "source": [
    "2 + 2"
   ]
  },
  {
   "cell_type": "code",
   "execution_count": 4,
   "metadata": {},
   "outputs": [
    {
     "data": {
      "text/plain": [
       "-3"
      ]
     },
     "execution_count": 4,
     "metadata": {},
     "output_type": "execute_result"
    }
   ],
   "source": [
    "7 - 10"
   ]
  },
  {
   "cell_type": "code",
   "execution_count": 5,
   "metadata": {},
   "outputs": [
    {
     "data": {
      "text/plain": [
       "12"
      ]
     },
     "execution_count": 5,
     "metadata": {},
     "output_type": "execute_result"
    }
   ],
   "source": [
    "3*4"
   ]
  },
  {
   "cell_type": "code",
   "execution_count": 6,
   "metadata": {},
   "outputs": [
    {
     "data": {
      "text/plain": [
       "8"
      ]
     },
     "execution_count": 6,
     "metadata": {},
     "output_type": "execute_result"
    }
   ],
   "source": [
    "2**3"
   ]
  },
  {
   "cell_type": "code",
   "execution_count": 7,
   "metadata": {},
   "outputs": [
    {
     "data": {
      "text/plain": [
       "3.0"
      ]
     },
     "execution_count": 7,
     "metadata": {},
     "output_type": "execute_result"
    }
   ],
   "source": [
    "6/2"
   ]
  },
  {
   "cell_type": "markdown",
   "metadata": {},
   "source": [
    "That last one was sort of weird though, it has a decimal point where the others don't. This is a good segue to our next data type, which are floating point numbers, or floats."
   ]
  },
  {
   "cell_type": "markdown",
   "metadata": {},
   "source": [
    "<h2> Floats </h2>\n",
    "\n",
    "Floats, or floating-point numbers are used to represent any decimal number with presicion limited by your computer hardware. They support all of the arithmetic operations of intergers which we outlined above, but there are a few special integer operations which aren't supported by floats, like integer division and modulus.\n",
    "\n",
    "You get a float by typing in a number followed by a decimal. In the cell below we demonstarte a calculation. Note that Python follows the standard order of operations and that floats and integers are compatible which isn't true of all languages."
   ]
  },
  {
   "cell_type": "code",
   "execution_count": 8,
   "metadata": {},
   "outputs": [
    {
     "data": {
      "text/plain": [
       "0.19166666666666668"
      ]
     },
     "execution_count": 8,
     "metadata": {},
     "output_type": "execute_result"
    }
   ],
   "source": [
    "(3 + 4.5) * 0.23 / 3.**2"
   ]
  },
  {
   "cell_type": "markdown",
   "metadata": {},
   "source": [
    "The last number of the decimal isn't excact and that's because the computer only uses so 16 bits to represent the number with. In most applications floating point precision isn't an issue on modern computers.\n",
    "\n",
    "Note that this means floats often can't be compared like integers."
   ]
  },
  {
   "cell_type": "code",
   "execution_count": 12,
   "metadata": {},
   "outputs": [
    {
     "data": {
      "text/plain": [
       "False"
      ]
     },
     "execution_count": 12,
     "metadata": {},
     "output_type": "execute_result"
    }
   ],
   "source": [
    "3.0 == (27.9/9 - 0.1)"
   ]
  },
  {
   "cell_type": "markdown",
   "metadata": {},
   "source": [
    "Instead, we can check if the numbers are within some very small distance of each other by comparing the absoute value of their difference to some very small number."
   ]
  },
  {
   "cell_type": "code",
   "execution_count": 9,
   "metadata": {},
   "outputs": [
    {
     "data": {
      "text/plain": [
       "True"
      ]
     },
     "execution_count": 9,
     "metadata": {},
     "output_type": "execute_result"
    }
   ],
   "source": [
    "abs(3.0 - (27.9/9 - 0.1)) < 10**(-10)"
   ]
  },
  {
   "cell_type": "markdown",
   "metadata": {},
   "source": [
    "`abs` is a **function** that returns the absolute value of an int or float, we'll come back to functions later."
   ]
  },
  {
   "cell_type": "markdown",
   "metadata": {},
   "source": [
    "<h2> Strings </h2>\n",
    "\n",
    "Strings are used to represent text, and they're enclosed in either single or double quotes, depending on if you'd like to use either in your code. The hello world example from before made use of a string.\n",
    "\n",
    "You can also add strings or multiply them:"
   ]
  },
  {
   "cell_type": "code",
   "execution_count": 10,
   "metadata": {},
   "outputs": [
    {
     "data": {
      "text/plain": [
       "'Physics is fun.'"
      ]
     },
     "execution_count": 10,
     "metadata": {},
     "output_type": "execute_result"
    }
   ],
   "source": [
    "'Physics ' + 'is fun.'"
   ]
  },
  {
   "cell_type": "code",
   "execution_count": 16,
   "metadata": {},
   "outputs": [
    {
     "data": {
      "text/plain": [
       "'Python Python Python Python Python Python python.'"
      ]
     },
     "execution_count": 16,
     "metadata": {},
     "output_type": "execute_result"
    }
   ],
   "source": [
    "\"Python \"*6 + 'python.'"
   ]
  },
  {
   "cell_type": "markdown",
   "metadata": {},
   "source": [
    "You can also index strings or slice them. To get characters of substrings. It is very important to note that indices start at zero, and go up from there. Other programming languages might do this differently."
   ]
  },
  {
   "cell_type": "code",
   "execution_count": 14,
   "metadata": {},
   "outputs": [
    {
     "data": {
      "text/plain": [
       "'i'"
      ]
     },
     "execution_count": 14,
     "metadata": {},
     "output_type": "execute_result"
    }
   ],
   "source": [
    "\"this is a string\"[2]"
   ]
  },
  {
   "cell_type": "code",
   "execution_count": 17,
   "metadata": {},
   "outputs": [
    {
     "data": {
      "text/plain": [
       "'substr'"
      ]
     },
     "execution_count": 17,
     "metadata": {},
     "output_type": "execute_result"
    }
   ],
   "source": [
    "\"substring\"[0:6]"
   ]
  },
  {
   "cell_type": "markdown",
   "metadata": {},
   "source": [
    "You can also use negative indices to go back from the end of a string."
   ]
  },
  {
   "cell_type": "code",
   "execution_count": 21,
   "metadata": {},
   "outputs": [
    {
     "data": {
      "text/plain": [
       "'wards'"
      ]
     },
     "execution_count": 21,
     "metadata": {},
     "output_type": "execute_result"
    }
   ],
   "source": [
    "'backwards'[-5:]"
   ]
  },
  {
   "cell_type": "markdown",
   "metadata": {},
   "source": [
    "In the next sections we'll start commenting. Anything with a # before it is a comment and will be ignored by Python."
   ]
  },
  {
   "cell_type": "markdown",
   "metadata": {},
   "source": [
    "<h2> Lists </h2>\n",
    "\n",
    "Lists are used to present collections of objects. Similar to strings, you can index, slice, and add them."
   ]
  },
  {
   "cell_type": "code",
   "execution_count": 25,
   "metadata": {},
   "outputs": [
    {
     "data": {
      "text/plain": [
       "[1, 2, 3]"
      ]
     },
     "execution_count": 25,
     "metadata": {},
     "output_type": "execute_result"
    }
   ],
   "source": [
    "# List\n",
    "[1, 2, 3, 4][:-1]"
   ]
  },
  {
   "cell_type": "code",
   "execution_count": 26,
   "metadata": {},
   "outputs": [
    {
     "data": {
      "text/plain": [
       "[1, 2, 3, 4, 5, 'six']"
      ]
     },
     "execution_count": 26,
     "metadata": {},
     "output_type": "execute_result"
    }
   ],
   "source": [
    "[1, 2] + [3, 4] + [5, \"six\"]"
   ]
  },
  {
   "cell_type": "markdown",
   "metadata": {},
   "source": [
    "<h2> Booleans </h2>\n",
    "\n",
    "Booleans are probably the simplest data type. They can be either `True` or `False`. You get them by putting logical statements into Python. For example, booleans come up when you compare numbers using equalities and inequalities."
   ]
  },
  {
   "cell_type": "code",
   "execution_count": 23,
   "metadata": {},
   "outputs": [
    {
     "data": {
      "text/plain": [
       "True"
      ]
     },
     "execution_count": 23,
     "metadata": {},
     "output_type": "execute_result"
    }
   ],
   "source": [
    "1 < 2"
   ]
  },
  {
   "cell_type": "code",
   "execution_count": 27,
   "metadata": {},
   "outputs": [
    {
     "data": {
      "text/plain": [
       "False"
      ]
     },
     "execution_count": 27,
     "metadata": {},
     "output_type": "execute_result"
    }
   ],
   "source": [
    "3 >= 4"
   ]
  },
  {
   "cell_type": "code",
   "execution_count": 25,
   "metadata": {},
   "outputs": [
    {
     "data": {
      "text/plain": [
       "False"
      ]
     },
     "execution_count": 25,
     "metadata": {},
     "output_type": "execute_result"
    }
   ],
   "source": [
    "5 != 2 + 3"
   ]
  },
  {
   "cell_type": "code",
   "execution_count": 26,
   "metadata": {},
   "outputs": [
    {
     "data": {
      "text/plain": [
       "True"
      ]
     },
     "execution_count": 26,
     "metadata": {},
     "output_type": "execute_result"
    }
   ],
   "source": [
    "3*3 == 9"
   ]
  },
  {
   "cell_type": "markdown",
   "metadata": {},
   "source": [
    "Booleans also have logical operators `and` and `or`. These let you evaluate the truth of boolean expressions strung together. In the case of `or`, only one side needs to be true to return `True`, but in the case of and both beed be true to return `True`."
   ]
  },
  {
   "cell_type": "code",
   "execution_count": 27,
   "metadata": {},
   "outputs": [
    {
     "data": {
      "text/plain": [
       "True"
      ]
     },
     "execution_count": 27,
     "metadata": {},
     "output_type": "execute_result"
    }
   ],
   "source": [
    "2 < 3 or 5 == 1"
   ]
  },
  {
   "cell_type": "markdown",
   "metadata": {},
   "source": [
    "You can also use the equality operator for any data type. Something interesting about that last bit of syntax is the fact that two equals signs were used. One equals sign means something completely different in python, which we'll cover in the next section."
   ]
  },
  {
   "cell_type": "markdown",
   "metadata": {},
   "source": [
    "<h1> Variables and Assignment </h1>\n",
    "\n",
    "All of this data representation is useless if we can't store and manipulate information. This is where variable assignment comes in, and the syntax is very similar to what you would do in an actual physics problem. If the last line of the cell is a variable, the output of the cell will be whatever object that variable is pointing to."
   ]
  },
  {
   "cell_type": "code",
   "execution_count": 31,
   "metadata": {},
   "outputs": [
    {
     "data": {
      "text/plain": [
       "86400"
      ]
     },
     "execution_count": 31,
     "metadata": {},
     "output_type": "execute_result"
    }
   ],
   "source": [
    "minutes_in_a_day = 24*60*60\n",
    "minutes_in_a_day"
   ]
  },
  {
   "cell_type": "markdown",
   "metadata": {},
   "source": [
    "Some objects can be changed after assignment because of how python memory management is deigned. This is mostly up to experimentation, and there's subltely and nuance that I won't explain here."
   ]
  },
  {
   "cell_type": "code",
   "execution_count": 36,
   "metadata": {},
   "outputs": [
    {
     "name": "stdout",
     "output_type": "stream",
     "text": [
      "2\n",
      "1\n",
      "[1, 2, 3, 4]\n",
      "[1, 2, 3, 4]\n"
     ]
    }
   ],
   "source": [
    "# integers cannot be mutated\n",
    "a = 1\n",
    "b = a\n",
    "a += 1\n",
    "\n",
    "print(a)\n",
    "print(b)\n",
    "\n",
    "# lists can though\n",
    "l1 = [1, 2, 3]\n",
    "l2 = l1\n",
    "l1 += [4]\n",
    "\n",
    "print(l1)\n",
    "print(l2)"
   ]
  },
  {
   "cell_type": "markdown",
   "metadata": {},
   "source": [
    "The `+=` operator tells python to take the original variable and add whatever's on the other side. In most cases `a = a + 1` and `a += 1` are identical, but not with lists and other mutable data. The only mutable data typbe we've introduced up to now are lists."
   ]
  },
  {
   "cell_type": "markdown",
   "metadata": {},
   "source": [
    "<h1> Basic Syntax: Errors, Loops, Conditionals </h1>\n",
    "\n",
    "Now we're ready to start writing some very basic scripts, but we'll still be very limited in what we can do. "
   ]
  },
  {
   "cell_type": "markdown",
   "metadata": {},
   "source": [
    "<h2> Errors </h2>\n",
    "\n",
    "You can write any text, save it as a `.py` file and run it if you have python installed. There's nothing stopping you from doing that, but it very likely will not run. This is because Python code needs to follow a very particular syntax for the computer to understand and execute. If python runs into an issue in the syntax and cannot interpret what you've written, it will stop the program and do it's best to tell you why and where it stopped in the form of an error report. Run the cell below to see what I mean. Can you spot the mistake before it runs?"
   ]
  },
  {
   "cell_type": "code",
   "execution_count": 38,
   "metadata": {},
   "outputs": [
    {
     "ename": "TypeError",
     "evalue": "unsupported operand type(s) for +: 'int' and 'str'",
     "output_type": "error",
     "traceback": [
      "\u001b[1;31m---------------------------------------------------------------------------\u001b[0m",
      "\u001b[1;31mTypeError\u001b[0m                                 Traceback (most recent call last)",
      "\u001b[1;32m<ipython-input-38-731d6a764255>\u001b[0m in \u001b[0;36m<module>\u001b[1;34m\u001b[0m\n\u001b[0;32m      1\u001b[0m \u001b[0ma\u001b[0m \u001b[1;33m=\u001b[0m \u001b[1;36m1\u001b[0m\u001b[1;33m\u001b[0m\u001b[1;33m\u001b[0m\u001b[0m\n\u001b[0;32m      2\u001b[0m \u001b[0mb\u001b[0m \u001b[1;33m=\u001b[0m \u001b[1;34m'two'\u001b[0m\u001b[1;33m\u001b[0m\u001b[1;33m\u001b[0m\u001b[0m\n\u001b[1;32m----> 3\u001b[1;33m \u001b[0mc\u001b[0m \u001b[1;33m=\u001b[0m \u001b[0ma\u001b[0m \u001b[1;33m+\u001b[0m \u001b[0mb\u001b[0m\u001b[1;33m\u001b[0m\u001b[1;33m\u001b[0m\u001b[0m\n\u001b[0m\u001b[0;32m      4\u001b[0m \u001b[1;33m\u001b[0m\u001b[0m\n\u001b[0;32m      5\u001b[0m \u001b[0mprint\u001b[0m\u001b[1;33m(\u001b[0m\u001b[0mc\u001b[0m\u001b[1;33m)\u001b[0m\u001b[1;33m\u001b[0m\u001b[1;33m\u001b[0m\u001b[0m\n",
      "\u001b[1;31mTypeError\u001b[0m: unsupported operand type(s) for +: 'int' and 'str'"
     ]
    }
   ],
   "source": [
    "a = 1\n",
    "b = 'two'\n",
    "c = a + b\n",
    "\n",
    "print(c)"
   ]
  },
  {
   "cell_type": "markdown",
   "metadata": {},
   "source": [
    "Python is great, but it's not quite Wolfram|Alpha and doesn't do that whole natural language processing thing. This means that you can't really add ints to strings (unfortunately)."
   ]
  },
  {
   "cell_type": "markdown",
   "metadata": {},
   "source": [
    "<h2> Conditionals: if/else blocks </h2>\n",
    "\n",
    "Sometimes you'll only want code to be executed given certain conditions, basically if x: do y, else do z. It can also help us catch errors in our code. Trying to divide by zero is impossible:"
   ]
  },
  {
   "cell_type": "code",
   "execution_count": 39,
   "metadata": {},
   "outputs": [
    {
     "ename": "ZeroDivisionError",
     "evalue": "division by zero",
     "output_type": "error",
     "traceback": [
      "\u001b[1;31m---------------------------------------------------------------------------\u001b[0m",
      "\u001b[1;31mZeroDivisionError\u001b[0m                         Traceback (most recent call last)",
      "\u001b[1;32m<ipython-input-39-b64c6ec87a58>\u001b[0m in \u001b[0;36m<module>\u001b[1;34m\u001b[0m\n\u001b[0;32m      3\u001b[0m \u001b[0mdenominator\u001b[0m \u001b[1;33m=\u001b[0m \u001b[1;36m0\u001b[0m\u001b[1;33m\u001b[0m\u001b[1;33m\u001b[0m\u001b[0m\n\u001b[0;32m      4\u001b[0m \u001b[1;33m\u001b[0m\u001b[0m\n\u001b[1;32m----> 5\u001b[1;33m \u001b[0mnumerator\u001b[0m \u001b[1;33m/\u001b[0m \u001b[0mdenominator\u001b[0m\u001b[1;33m\u001b[0m\u001b[1;33m\u001b[0m\u001b[0m\n\u001b[0m",
      "\u001b[1;31mZeroDivisionError\u001b[0m: division by zero"
     ]
    }
   ],
   "source": [
    "# Run this without changing and see what happens\n",
    "numerator = 1\n",
    "denominator = 0\n",
    "\n",
    "numerator / denominator"
   ]
  },
  {
   "cell_type": "markdown",
   "metadata": {},
   "source": [
    "We can check to see if `denominator` is valid using an `if/else` block (the print statement is necessary to see the output here):"
   ]
  },
  {
   "cell_type": "code",
   "execution_count": 48,
   "metadata": {},
   "outputs": [
    {
     "name": "stdout",
     "output_type": "stream",
     "text": [
      "Cannot divide by zero.\n"
     ]
    }
   ],
   "source": [
    "# Set variables to divide\n",
    "denominator = 0\n",
    "numerator = 4\n",
    "\n",
    "# Check if we may get an error\n",
    "if denominator != 0:\n",
    "    answer = numerator/denominator\n",
    "    print(answer)\n",
    "else:\n",
    "    print(\"Cannot divide by zero.\")"
   ]
  },
  {
   "cell_type": "markdown",
   "metadata": {},
   "source": [
    "Indent the block of code that you would like to be covered by the `if/else` block. If there are many conditions you would like to check you can link them together as booleans with the `and` and `or` operators."
   ]
  },
  {
   "cell_type": "markdown",
   "metadata": {},
   "source": [
    "<h1> Loops </h1>\n",
    "\n",
    "Sometimes there's code that you'd like to run over and over. It would be tedious to copy and paste lines, which is why we have loops. Once you are in a loop the code executes until a certain condition is met. There are two types, `for` loops and `while` loops.\n",
    "\n",
    "`While` loops start with a condition and the loop keeps repeating until the conditon if met. The condition is only checked at the start of the loop. Below is a very simple loop. Try changing `number` to examine the condition.\n",
    "\n",
    "I'll use the `print` function which I'll cover in the next section to output number in every loop."
   ]
  },
  {
   "cell_type": "code",
   "execution_count": 54,
   "metadata": {},
   "outputs": [
    {
     "name": "stdout",
     "output_type": "stream",
     "text": [
      "1\n",
      "2\n",
      "3\n",
      "4\n",
      "5\n",
      "6\n",
      "7\n",
      "8\n",
      "9\n",
      "10\n"
     ]
    },
    {
     "data": {
      "text/plain": [
       "10"
      ]
     },
     "execution_count": 54,
     "metadata": {},
     "output_type": "execute_result"
    }
   ],
   "source": [
    "number = 0\n",
    "\n",
    "while number < 10:\n",
    "    number = number + 1\n",
    "    print(number)\n",
    "\n",
    "number"
   ]
  },
  {
   "cell_type": "markdown",
   "metadata": {},
   "source": [
    "`for` loops work over iterables, or objects with multiple elements like\n",
    "* List item\n",
    "* List item\n",
    "\n",
    "strings or lists. Consider the following example:"
   ]
  },
  {
   "cell_type": "code",
   "execution_count": 64,
   "metadata": {},
   "outputs": [
    {
     "name": "stdout",
     "output_type": "stream",
     "text": [
      "l\n",
      "e\n",
      "t\n",
      "t\n",
      "e\n",
      "r\n",
      "s\n",
      "here\n",
      "are\n",
      "some\n",
      "words\n",
      "0\n",
      "3\n",
      "6\n",
      "9\n"
     ]
    }
   ],
   "source": [
    "word = 'letters'\n",
    "some_words = ['here', 'are', 'some', 'words']\n",
    "\n",
    "for letter in word:\n",
    "    print(letter)\n",
    "\n",
    "for word in some_words:\n",
    "    print(word)\n",
    "\n",
    "for i in range(0,10,3):\n",
    "    print(i)"
   ]
  },
  {
   "cell_type": "markdown",
   "metadata": {},
   "source": [
    "In the loop, each item in the iterable is assigned to the variable at the top. In the case of the second `for` loop, the variable is `word` which takes the value of each item in `some_words`. What do you think the variable word refers to after this code excecutes?\n",
    "\n",
    "Using indexing, think about how you could change both of the above `for` loops into a `while` loop."
   ]
  },
  {
   "cell_type": "markdown",
   "metadata": {},
   "source": [
    "<h1> Functions and Methods </h1>\n",
    "\n",
    "You may already be thinking about useful physics things that you could do with the things that we've covered. You can save processes that are useful in objects called functions. They're very similar to mathematical functions in that they can take arguments and return an output. You've aready seen the print function, but here's the syntax for defining a very simple one."
   ]
  },
  {
   "cell_type": "code",
   "execution_count": 67,
   "metadata": {},
   "outputs": [
    {
     "data": {
      "text/plain": [
       "5760.0"
      ]
     },
     "execution_count": 67,
     "metadata": {},
     "output_type": "execute_result"
    }
   ],
   "source": [
    "def days_to_seconds(days):\n",
    "    seconds = days*24*60*60\n",
    "    return seconds\n",
    "\n",
    "# def days_to_minutes(days):\n",
    "#     minutes = days*24*60\n",
    "#     return minutes\n",
    "\n",
    "minutes = days_to_seconds(4)/60\n",
    "minutes"
   ]
  },
  {
   "cell_type": "markdown",
   "metadata": {},
   "source": [
    "Functions aren't just limited to one argument either, and if you want to write a description of your function, you can enclose it in triple quotes after the header."
   ]
  },
  {
   "cell_type": "code",
   "execution_count": 68,
   "metadata": {},
   "outputs": [
    {
     "data": {
      "text/plain": [
       "5.0"
      ]
     },
     "execution_count": 68,
     "metadata": {},
     "output_type": "execute_result"
    }
   ],
   "source": [
    "def compute_hypotenuse(a: int, b: int):\n",
    "    \"\"\"Return the hypotenuse of a triangle with short\n",
    "    sides a and b\n",
    "    \"\"\"\n",
    "    return (a**2 + b**2)**(1/2)\n",
    "\n",
    "compute_hypotenuse(3, 4)"
   ]
  },
  {
   "cell_type": "markdown",
   "metadata": {},
   "source": [
    "The following computes the first `n` Fibonacci numbers."
   ]
  },
  {
   "cell_type": "code",
   "execution_count": 69,
   "metadata": {},
   "outputs": [
    {
     "name": "stdout",
     "output_type": "stream",
     "text": [
      "[1, 1, 2]\n",
      "[1, 1, 2, 3]\n",
      "[1, 1, 2, 3, 5]\n",
      "[1, 1, 2, 3, 5, 8]\n",
      "[1, 1, 2, 3, 5, 8, 13]\n",
      "[1, 1, 2, 3, 5, 8, 13, 21]\n",
      "[1, 1, 2, 3, 5, 8, 13, 21, 34]\n",
      "[1, 1, 2, 3, 5, 8, 13, 21, 34, 55]\n",
      "[1, 1, 2, 3, 5, 8, 13, 21, 34, 55, 89]\n",
      "[1, 1, 2, 3, 5, 8, 13, 21, 34, 55, 89, 144]\n",
      "[1, 1, 2, 3, 5, 8, 13, 21, 34, 55, 89, 144, 233]\n",
      "[1, 1, 2, 3, 5, 8, 13, 21, 34, 55, 89, 144, 233, 377]\n",
      "[1, 1, 2, 3, 5, 8, 13, 21, 34, 55, 89, 144, 233, 377, 610]\n"
     ]
    },
    {
     "data": {
      "text/plain": [
       "610"
      ]
     },
     "execution_count": 69,
     "metadata": {},
     "output_type": "execute_result"
    }
   ],
   "source": [
    "def fib(n):\n",
    "    if n == 1 or n == 2:\n",
    "        return 1\n",
    "    \n",
    "    fib_numbers = [1,1]\n",
    "    for i in range(2,n):\n",
    "        fib_numbers.append(fib_numbers[-1] + fib_numbers[-2])\n",
    "        print(fib_numbers)\n",
    "    \n",
    "    return fib_numbers[-1]\n",
    "\n",
    "fib(15)"
   ]
  },
  {
   "cell_type": "markdown",
   "metadata": {},
   "source": [
    "<h2> Useful Built-In Functions </h2>\n",
    "\n",
    "Python has a few functions built in already and some are particularly useful.\n",
    "\n",
    "The `print` function is the easiest way to output the value of something while your code is running and normally (in a regular python file) it's the easiest way to get quick results from the command line. It also lets you get multiple outputs of a cell here."
   ]
  },
  {
   "cell_type": "code",
   "execution_count": 72,
   "metadata": {},
   "outputs": [
    {
     "name": "stdout",
     "output_type": "stream",
     "text": [
      "Newton\n",
      "Feynman\n",
      "Boltzmann\n",
      "Noether\n",
      "Einstein\n",
      "Dirac\n"
     ]
    }
   ],
   "source": [
    "physicists = ['Newton', 'Feynman', 'Boltzmann', 'Noether', 'Einstein', 'Dirac']\n",
    "\n",
    "for physicist in physicists:\n",
    "    print(physicist)"
   ]
  },
  {
   "cell_type": "markdown",
   "metadata": {},
   "source": [
    "In this case, the `print` function prints every string in the list as I feed it into print. `print` is also useful for debugging because you can find the value of a variable in the middle of your code to see if it's erroneous."
   ]
  },
  {
   "cell_type": "markdown",
   "metadata": {},
   "source": [
    "When writing `for` loops, it's sometimes useful to go over indexes of a certain object instead of the actual elements in the object. In the next example I'm going to use three builtin functions: `len`, `range`, and `str`."
   ]
  },
  {
   "cell_type": "code",
   "execution_count": 73,
   "metadata": {},
   "outputs": [
    {
     "name": "stdout",
     "output_type": "stream",
     "text": [
      "0\n",
      "Newton was born in 1643\n",
      "1\n",
      "Feynman was born in 1918\n",
      "2\n",
      "Boltzmann was born in 1844\n",
      "3\n",
      "Noether was born in 1882\n",
      "4\n",
      "Einstein was born in 1879\n",
      "5\n",
      "Dirac was born in 1902\n"
     ]
    }
   ],
   "source": [
    "birth_year = [1643, 1918, 1844, 1882, 1879, 1902]\n",
    "physicist = ['Newton', 'Feynman', 'Boltzmann', 'Noether', 'Einstein', 'Dirac']\n",
    "\n",
    "for i in range(len(birth_year)):\n",
    "    print(i)\n",
    "    print(f'{physicist[i]} was born in {birth_year[i]}')"
   ]
  },
  {
   "cell_type": "markdown",
   "metadata": {},
   "source": [
    "In this example, we used the `range` function to get us number i from 0 up to but not including the number that we get by applying `len` to `birth_year`, which is 5. This lets us index to two lists together and extract the information we want from them.\n",
    "\n",
    "Finally, the `str` function converts any object into a string representation of that object so it can be added to other strings.\n",
    "\n",
    "There are other builtin functions and a full list can be found here\n",
    "https://docs.python.org/3/library/functions.html\n",
    "\n",
    "If you ever want to know about a function you can call `help(function)`"
   ]
  },
  {
   "cell_type": "code",
   "execution_count": 75,
   "metadata": {},
   "outputs": [
    {
     "name": "stdout",
     "output_type": "stream",
     "text": [
      "Help on built-in function len in module builtins:\n",
      "\n",
      "len(obj, /)\n",
      "    Return the number of items in a container.\n",
      "\n",
      "None\n",
      "Help on function compute_hypotenuse in module __main__:\n",
      "\n",
      "compute_hypotenuse(a: int, b: int)\n",
      "    Return the hypotenuse of a triangle with short\n",
      "    sides a and b\n",
      "\n",
      "None\n"
     ]
    }
   ],
   "source": [
    "# Like with the len function\n",
    "print(help(len))\n",
    "\n",
    "# Or the function we wrote already\n",
    "print(help(compute_hypotenuse))"
   ]
  },
  {
   "cell_type": "code",
   "execution_count": 41,
   "metadata": {},
   "outputs": [
    {
     "name": "stdout",
     "output_type": "stream",
     "text": [
      "Input days: 21\n",
      "1814400\n"
     ]
    }
   ],
   "source": [
    "def days_to_seconds(days):\n",
    "    seconds = days*24*60*60\n",
    "    return seconds\n",
    "\n",
    "days = int(input(\"Input days: \"))\n",
    "print(days_to_seconds(days))"
   ]
  },
  {
   "cell_type": "markdown",
   "metadata": {},
   "source": [
    "<h2> Methods </h2>\n",
    "\n",
    "Methods are like functions, but they operate on certain objects. Creating your own methods is beyond the scope of this tutorial, but we'll highlight a few and see how they work."
   ]
  },
  {
   "cell_type": "code",
   "execution_count": 77,
   "metadata": {},
   "outputs": [
    {
     "name": "stdout",
     "output_type": "stream",
     "text": [
      "banana bnnnnn\n"
     ]
    }
   ],
   "source": [
    "# A string method\n",
    "a = 'banana'\n",
    "b = a.replace('a', 'n')\n",
    "print(a, b)"
   ]
  },
  {
   "cell_type": "markdown",
   "metadata": {},
   "source": [
    "The replace method works on a string, and returns a new string whith all the instances of the first string replaced with the second string. Note that this doesn't change the string that a refers to, it creates a new one. We can do it with bigger substrings too."
   ]
  },
  {
   "cell_type": "code",
   "execution_count": 78,
   "metadata": {},
   "outputs": [
    {
     "data": {
      "text/plain": [
       "'two two two two'"
      ]
     },
     "execution_count": 78,
     "metadata": {},
     "output_type": "execute_result"
    }
   ],
   "source": [
    "'one two one two'.replace('one', 'two')"
   ]
  },
  {
   "cell_type": "markdown",
   "metadata": {},
   "source": [
    "Remember how I said that lists can be changed? There are also methods to help with that."
   ]
  },
  {
   "cell_type": "code",
   "execution_count": 79,
   "metadata": {},
   "outputs": [
    {
     "data": {
      "text/plain": [
       "['bread', 'eggs', 'milk', 'cheese']"
      ]
     },
     "execution_count": 79,
     "metadata": {},
     "output_type": "execute_result"
    }
   ],
   "source": [
    "shopping_list = ['bread', 'eggs', 'milk']\n",
    "shopping_list.append('cheese')\n",
    "shopping_list"
   ]
  },
  {
   "cell_type": "markdown",
   "metadata": {},
   "source": [
    "<h1> Importing Packages </h1>\n",
    "\n",
    "Writing your own code is great, but wouldn't it be great if you could save youself hours of programming work with a little bit of googling and experimenting? Adding and multiplying numbers is all fine, but say you wanted to do use a trigonometric function. That's where packages come in, they let you import functions and variables into your code. If I wanted to compute  $cos(2π/3)$, I could write a function, define `pi` and output the result."
   ]
  },
  {
   "cell_type": "code",
   "execution_count": 80,
   "metadata": {},
   "outputs": [
    {
     "data": {
      "text/plain": [
       "-0.5000145178470978"
      ]
     },
     "execution_count": 80,
     "metadata": {},
     "output_type": "execute_result"
    }
   ],
   "source": [
    "pi = 3.14159265\n",
    "\n",
    "def cos(theta):\n",
    "    # Coding practice, if we wanted to use this function elsewhere, \n",
    "    # we don't know if pi is necissarily defined in the namespace yet.\n",
    "    pi = 3.14159265\n",
    "\n",
    "    # look up the modulo operator.\n",
    "    # This puts theta in the set [-pi, pi) because cos is periodic, \n",
    "    # and it's necessary for the next step to work over all reals\n",
    "    theta = (theta + pi) % (2*pi) - pi\n",
    "    \n",
    "    # I'm using the cosine taylor series: it's what most computers do (I think)\n",
    "    return 1 - theta**2/2 + theta**4/24 - theta**6/720 + theta**8/40320 - theta**10/3628800\n",
    "\n",
    "cos(2*pi/3)"
   ]
  },
  {
   "cell_type": "markdown",
   "metadata": {},
   "source": [
    "Now, there's nothing strictly wrong with this code. It's accurate to 1 part in 50,000 and we could make it more accurate by extending our Taylor series and defining `pi` with more decimals. But the implementation requires some sophisticated math. We could just use prewritten code, like the `pi` variable and the `cos` function in the `math` module."
   ]
  },
  {
   "cell_type": "code",
   "execution_count": 81,
   "metadata": {},
   "outputs": [
    {
     "data": {
      "text/plain": [
       "-0.4999999999999998"
      ]
     },
     "execution_count": 81,
     "metadata": {},
     "output_type": "execute_result"
    }
   ],
   "source": [
    "from math import cos, pi\n",
    "\n",
    "cos(2*pi/3)"
   ]
  },
  {
   "cell_type": "markdown",
   "metadata": {},
   "source": [
    "This simple example illustrates that importing code is necessary for a lot of elementary applications. There are a few other ways to import. You can import the whole package into your namespace using the wildcard `*` (anybody who knows bash should be very familiar with this one)."
   ]
  },
  {
   "cell_type": "code",
   "execution_count": 82,
   "metadata": {},
   "outputs": [
    {
     "data": {
      "text/plain": [
       "1.0"
      ]
     },
     "execution_count": 82,
     "metadata": {},
     "output_type": "execute_result"
    }
   ],
   "source": [
    "from math import *\n",
    "\n",
    "sqrt(sin(tau/4))"
   ]
  },
  {
   "cell_type": "markdown",
   "metadata": {},
   "source": [
    "We didn't specifically ask for `sqrt`, `sin` or `tau`, but it turns out they're all either functions or variables in the `math` package. When we write `import *` we import everything from that package into our program. This is generally considered sloppy practice, and should be avioded because it can be memory intensive and you can't really keep track of what variables are in your main namespace. But it's good for quick jobs.\n",
    "\n",
    "The third option is considered best practice if you want to import a whole package."
   ]
  },
  {
   "cell_type": "code",
   "execution_count": 83,
   "metadata": {},
   "outputs": [
    {
     "data": {
      "text/plain": [
       "-0.4505495340698077"
      ]
     },
     "execution_count": 83,
     "metadata": {},
     "output_type": "execute_result"
    }
   ],
   "source": [
    "import math as m\n",
    "\n",
    "m.tan(m.e)"
   ]
  },
  {
   "cell_type": "markdown",
   "metadata": {},
   "source": [
    "Now you can access everything in the math package, and there's no chance of accidentally overwriting one of the functions or variables you imported."
   ]
  },
  {
   "cell_type": "markdown",
   "metadata": {},
   "source": [
    "<h1> Solving Problems with Basic Python </h1>\n",
    "\n",
    "We now have all the tools we need to start solving basic physics problems. As an introduction to computational physics, we'll start wih a simple problem. Consider a ball dropped from height h. How long does the ball take to hit the ground?\n",
    "\n",
    "Normally we'd set up a kinematic algebraic equation and solve to find find that \n",
    "$$\n",
    "t = \\sqrt{\\frac{2h}{g}}\n",
    "$$\n",
    "But it turns out for many physical applications a closed form analytic solution like this isn't actually possible (which means you can't write it on paper using basic functions). To this end, we can simulate the velocity and position of the ball and **time evolve** the quantities. \n",
    "\n",
    "Consider a particle with position $x(t)$, and velocity $v(t)$, accelerating at acceleration $a$. If we took a very small timestep $\\Delta t$ we can write an equation for velocity as\n",
    "$$\n",
    "v(t+\\Delta t) = v(t) + a\\Delta t\n",
    "$$\n",
    "And we can write our position as \n",
    "$$\n",
    "x(t + \\Delta t) = x(t) + v(t)\\Delta t + \\frac{1}{2}a \\Delta t^2\n",
    "$$\n",
    "\n",
    "Thinking about that last equation for position, since $\\Delta t$ is very small, $\\Delta t^2$ is very very small (I promise these are technical terms). Because $\\Delta t^2$ is small compared to $\\Delta t$ we can neglect it and approximate our position equation as\n",
    "$$\n",
    "x(t + \\Delta t) \\approx x(t) + v(t)\\Delta t\n",
    "$$\n",
    "\n",
    "In other terms, if we know some $v_1$ and $x_1$ at time $t_1$ for some particle accelerating with acceleration $a$ we can compute the time, velocity and position, $t_2$, $v_2$ and $x_2$, at some small time later as\n",
    "$$\n",
    "v_2 = v_1 + a\\Delta t \\\\\n",
    "x_2 = x_1 + v_1\\Delta t \\\\\n",
    "t_2 = t_1 + \\Delta t\n",
    "$$ \n",
    "\n",
    "\n",
    "For our actual ball, we'll start with $t=0 \\, \\text{s}$, $x = h$, $v = 0 \\, \\text{m/s}$, and $a = -9.8 \\, \\text{m/s}^2$. Once we'll set these variables, we'll run a while loop that will update our position, velocity and time until position is less than zero (so the ball has gone slightly past the ground). Once the loop exits we'll print the time and compare to the analytic solution. In the cell below we set $h = 10 \\, m$ for our initial $x$ position and run:"
   ]
  },
  {
   "cell_type": "code",
   "execution_count": 84,
   "metadata": {},
   "outputs": [
    {
     "name": "stdout",
     "output_type": "stream",
     "text": [
      "Simulated Time 1.430000000000001\n",
      "Analytic Time 1.4285714285714286\n"
     ]
    }
   ],
   "source": [
    "# Assign initial conditions\n",
    "x = 10\n",
    "v = 0\n",
    "t = 0\n",
    "a = -9.8\n",
    "delta_t = 0.01\n",
    "\n",
    "# Compute the solution to compare against\n",
    "actual_solution = (2*x/(-a))**0.5\n",
    "\n",
    "# Run a loop\n",
    "while x > 0:\n",
    "    v = v + a * delta_t\n",
    "    x = x + v * delta_t\n",
    "    t = t + delta_t\n",
    "\n",
    "# Print outputs an compare\n",
    "print('Simulated Time ' + str(t))\n",
    "print('Analytic Time ' + str(actual_solution))"
   ]
  },
  {
   "cell_type": "markdown",
   "metadata": {},
   "source": [
    "If we make our timestep smaller, it will cause our code to take more time, but it will give us a more accurate result. Don't make it too small, or your code will take far too long to run."
   ]
  },
  {
   "cell_type": "markdown",
   "metadata": {},
   "source": [
    "<h1> Numpy </h1>\n",
    "\n",
    "The numpy package is indespensible for anyone in any scientific application of Python.\n",
    "\n",
    "Not only does numpy give a suite of tools that are lightning fast (most of it is written in C) and relatively easy to use for numerical computations, but most other packages that are used for scientific computing are built directly onto numpy. I'll take this section to go over the ubiquitous numpy array that the package provides. We will further discuss some useful functions.\n",
    "\n",
    "<h2> The Numpy Array </h2>"
   ]
  },
  {
   "cell_type": "code",
   "execution_count": 89,
   "metadata": {},
   "outputs": [
    {
     "name": "stdout",
     "output_type": "stream",
     "text": [
      "[1 2 3]\n",
      "[3 1 2]\n",
      "---------------\n",
      "[4 3 5]\n",
      "[2 4 6]\n",
      "[ True False False]\n"
     ]
    }
   ],
   "source": [
    " # This is how everyone imports numpy\n",
    "import numpy as np\n",
    "\n",
    "a = np.array([1, 2, 3])\n",
    "b = np.array([3, 1, 2])\n",
    "print(a)\n",
    "print(b)\n",
    "print(\"---------------\")\n",
    "\n",
    "\n",
    "# Some array operations:\n",
    "print(a + b)\n",
    "print(2*a)\n",
    "print(a < 2)"
   ]
  },
  {
   "cell_type": "markdown",
   "metadata": {},
   "source": [
    "Arrays are used to represent collections of numbers in a certain shape and are pretty ubiquitous in scientific computation. Generally, any numerical data can be represented as an array if a single number wont do. If I wanted a relationship between an `x` and `y`, I could create an array of x's and apply a function to generate y's. I'll also use the `arange` function to generate evenly spaced points."
   ]
  },
  {
   "cell_type": "code",
   "execution_count": 93,
   "metadata": {},
   "outputs": [
    {
     "name": "stdout",
     "output_type": "stream",
     "text": [
      "[0.  0.1 0.2 0.3 0.4 0.5 0.6 0.7 0.8 0.9 1.  1.1 1.2 1.3 1.4 1.5 1.6 1.7\n",
      " 1.8 1.9 2.  2.1 2.2 2.3 2.4 2.5 2.6 2.7 2.8 2.9 3.  3.1 3.2 3.3 3.4 3.5\n",
      " 3.6 3.7 3.8 3.9 4.  4.1 4.2 4.3 4.4 4.5 4.6 4.7 4.8 4.9]\n",
      "[0.000e+00 1.000e-02 4.000e-02 9.000e-02 1.600e-01 2.500e-01 3.600e-01\n",
      " 4.900e-01 6.400e-01 8.100e-01 1.000e+00 1.210e+00 1.440e+00 1.690e+00\n",
      " 1.960e+00 2.250e+00 2.560e+00 2.890e+00 3.240e+00 3.610e+00 4.000e+00\n",
      " 4.410e+00 4.840e+00 5.290e+00 5.760e+00 6.250e+00 6.760e+00 7.290e+00\n",
      " 7.840e+00 8.410e+00 9.000e+00 9.610e+00 1.024e+01 1.089e+01 1.156e+01\n",
      " 1.225e+01 1.296e+01 1.369e+01 1.444e+01 1.521e+01 1.600e+01 1.681e+01\n",
      " 1.764e+01 1.849e+01 1.936e+01 2.025e+01 2.116e+01 2.209e+01 2.304e+01\n",
      " 2.401e+01]\n"
     ]
    }
   ],
   "source": [
    "x = np.arange(0, 5, 0.1)\n",
    "\n",
    "def f(x):\n",
    "    return x**2\n",
    "\n",
    "y = f(x)\n",
    "\n",
    "print(x)\n",
    "print(y)"
   ]
  },
  {
   "cell_type": "code",
   "execution_count": 74,
   "metadata": {},
   "outputs": [
    {
     "data": {
      "text/plain": [
       "array([0., 0., 0., 0., 0.])"
      ]
     },
     "execution_count": 74,
     "metadata": {},
     "output_type": "execute_result"
    }
   ],
   "source": [
    "np.zeros(5)"
   ]
  },
  {
   "cell_type": "markdown",
   "metadata": {},
   "source": [
    "Now we have two array, one representing the input of a function and another representing the output. You can't always apply functions to arrays like this, sometimes you will need to use a loop and index. For one dimensional arrays, indexing works exactly like lists."
   ]
  },
  {
   "cell_type": "markdown",
   "metadata": {},
   "source": [
    "<h2> The Same Physics Problem </h2>\n",
    "\n",
    "We solved the time-to-fall problem using base python, but it's useful to see how arrays can be applied to the problem as well. To start we'll create empty arrays for position and velocity, and use a time array with evenly spaced points for our time values."
   ]
  },
  {
   "cell_type": "code",
   "execution_count": 99,
   "metadata": {},
   "outputs": [],
   "source": [
    "h = 10\n",
    "dt = 0.01\n",
    "a = -9.8\n",
    "time = np.arange(0, 10, step=dt)  # This gives us an array with values 0 to 100 separated by step dt. \n",
    "                                   # 100 is the upper bound because we want a time that we know we won't reach\n",
    "\n",
    "# Arrays with only zeros the same length as our time array                                    \n",
    "velocity = np.zeros(len(time))\n",
    "position = np.zeros(len(time))\n",
    "\n",
    "# Set initial Values\n",
    "position[0] = h\n",
    "velocity[0] = 0\n",
    "\n",
    "# We want to keep track of where we're at on the arrays so values go in the right place\n",
    "index = 1\n",
    "\n",
    "# While the previous position is above zero\n",
    "while position[index-1] > 0:\n",
    "    \n",
    "    # Get new values using our last values\n",
    "    velocity[index] = velocity[index - 1] + a*dt\n",
    "    position[index] = position[index - 1] + velocity[index - 1]*dt\n",
    "    index += 1\n",
    "\n",
    "# Truncate extra data in arrays after the last index\n",
    "position = position[:index]\n",
    "velocity = velocity[:index]\n",
    "time = time[:index]\n"
   ]
  },
  {
   "cell_type": "markdown",
   "metadata": {},
   "source": [
    "The data for our entire simulation is now stored in these three arrays. If we wanted to know the time it took to fall we would just index the time array at the final point:"
   ]
  },
  {
   "cell_type": "code",
   "execution_count": 95,
   "metadata": {},
   "outputs": [
    {
     "data": {
      "text/plain": [
       "1.44"
      ]
     },
     "execution_count": 95,
     "metadata": {},
     "output_type": "execute_result"
    }
   ],
   "source": [
    "fall_time = time[-1]\n",
    "fall_time"
   ]
  },
  {
   "cell_type": "markdown",
   "metadata": {},
   "source": [
    "<h2> Multi-dimensional Arrays </h2>\n",
    "\n",
    "Arrays aren't limited to one dimension. They can come in many shapes and sizes. As well as the values they store, each array has a shape attribute:"
   ]
  },
  {
   "cell_type": "code",
   "execution_count": 101,
   "metadata": {},
   "outputs": [
    {
     "name": "stdout",
     "output_type": "stream",
     "text": [
      "[1. 1. 1. 1. 1. 1.]\n",
      "(6,)\n"
     ]
    }
   ],
   "source": [
    "one_d_ones = np.ones(6)\n",
    "print(one_d_ones)\n",
    "print(one_d_ones.shape)"
   ]
  },
  {
   "cell_type": "markdown",
   "metadata": {},
   "source": [
    "The first thing we printed is just the array, and the second thing we printed is its shape attribute. Notice that it's a tuple with just one element. That tells us that the array is one dimensional with length 6 (as you knew). Now:"
   ]
  },
  {
   "cell_type": "code",
   "execution_count": 103,
   "metadata": {},
   "outputs": [
    {
     "name": "stdout",
     "output_type": "stream",
     "text": [
      "[[1. 1. 1.]\n",
      " [1. 1. 1.]]\n",
      "(2, 3)\n"
     ]
    }
   ],
   "source": [
    "two_d_ones = one_d_ones.reshape((2, 3))\n",
    "print(two_d_ones)\n",
    "print(two_d_ones.shape)"
   ]
  },
  {
   "cell_type": "markdown",
   "metadata": {},
   "source": [
    "Now we have an array with two rows and three columns with the same data. We can also pass a shape tuple instead of an integer into our array building functions instead of an integer:"
   ]
  },
  {
   "cell_type": "code",
   "execution_count": 105,
   "metadata": {},
   "outputs": [
    {
     "name": "stdout",
     "output_type": "stream",
     "text": [
      "[[1. 1. 1. 1.]\n",
      " [1. 1. 1. 1.]]\n",
      "[[0.]\n",
      " [0.]\n",
      " [0.]]\n",
      "[[0.000e+000 0.000e+000 0.000e+000]\n",
      " [0.000e+000 0.000e+000 6.245e-321]\n",
      " [0.000e+000 0.000e+000 0.000e+000]]\n"
     ]
    }
   ],
   "source": [
    "some_ones = np.ones((2, 4))\n",
    "some_nones = np.zeros((3, 1))\n",
    "some_garbage = np.empty((3, 3))\n",
    "\n",
    "print(some_ones)\n",
    "print(some_nones)\n",
    "print(some_garbage)"
   ]
  },
  {
   "cell_type": "markdown",
   "metadata": {},
   "source": [
    "The shape tuple can have as many dimensions as you want it to, but to keep presentation nice we've limited ourseves to 2D arrays.\n",
    "\n",
    "The last function `np.empty` returns an array with random numbers and it's useful if we know we want to overwrite the whole array. It's also the fastest way of creating an array of a given shape if we want to optimize the runtime of a program.\n",
    "\n",
    "Multidimensional arrays can also be indexed by rows and by columns. Consider the following example:"
   ]
  },
  {
   "cell_type": "code",
   "execution_count": 109,
   "metadata": {},
   "outputs": [
    {
     "name": "stdout",
     "output_type": "stream",
     "text": [
      "[[1 2 3]\n",
      " [4 5 6]\n",
      " [7 8 9]]\n",
      "[7 8 9]\n",
      "3\n",
      "[[2 3]\n",
      " [5 6]]\n"
     ]
    }
   ],
   "source": [
    "array_to_index = np.arange(1, 10).reshape((3, 3))\n",
    "print(array_to_index)\n",
    "\n",
    "\n",
    "print(array_to_index[2])\n",
    "print(array_to_index[0,2])\n",
    "print(array_to_index[0:2, 1:3])"
   ]
  },
  {
   "cell_type": "markdown",
   "metadata": {},
   "source": [
    "<h1> Matplotlib </h1>\n",
    "\n",
    "Creating and storing data for a simulation is great, but if we actually want to make use of it we need to be able to represent it visually. The next library we'll talk about is `matplotlib`, more specifically the `pyplot` subpackage. Remember our position and velocity arrays from above? In the cell below we'll make a simple plot."
   ]
  },
  {
   "cell_type": "code",
   "execution_count": 113,
   "metadata": {},
   "outputs": [
    {
     "data": {
      "image/png": "[encoded data removed]",
      "text/plain": [
       "<Figure size 432x288 with 1 Axes>"
      ]
     },
     "metadata": {
      "needs_background": "light"
     },
     "output_type": "display_data"
    }
   ],
   "source": [
    "import matplotlib.pyplot as plt   # How everyone does it\n",
    "\n",
    "# Start an empty figure\n",
    "plt.figure()\n",
    "\n",
    "# Plot time as x and position as y\n",
    "plt.plot(time, position)\n",
    "\n",
    "# Give it a title\n",
    "plt.title('Position of a falling object over time')\n",
    "\n",
    "# Label the axes\n",
    "plt.xlabel('time (s)')\n",
    "plt.ylabel('height (m)')\n",
    "\n",
    "# And show to output the figure\n",
    "plt.show()"
   ]
  },
  {
   "cell_type": "markdown",
   "metadata": {},
   "source": [
    "This package works a little bit differently, in that we're not explicitly creating objects and assigning them to variables, but each line does something—or adds something—to the plot. It automatically configures most details, but everything in the plot above can be edited somehow with advanced use of the package.\n",
    "\n",
    "If we wanted to plot something else, we'd start a new figure with a fresh plt.figure(). In the next cell, we'll make two plots : velocity against time and velocity against position."
   ]
  },
  {
   "cell_type": "code",
   "execution_count": 114,
   "metadata": {},
   "outputs": [
    {
     "data": {
      "image/png": "[encoded data removed]",
      "text/plain": [
       "<Figure size 432x288 with 1 Axes>"
      ]
     },
     "metadata": {
      "needs_background": "light"
     },
     "output_type": "display_data"
    },
    {
     "data": {
      "image/png": "[encoded data removed]",
      "text/plain": [
       "<Figure size 432x288 with 1 Axes>"
      ]
     },
     "metadata": {
      "needs_background": "light"
     },
     "output_type": "display_data"
    }
   ],
   "source": [
    "plt.figure()\n",
    "plt.plot(time, velocity)\n",
    "plt.title('Velocity of a falling object over time')\n",
    "plt.xlabel('time (s)')\n",
    "plt.ylabel('velocity (m/s)')\n",
    "plt.show()\n",
    "\n",
    "plt.figure()\n",
    "plt.plot(position, velocity)\n",
    "plt.title('Position against Velocity')\n",
    "plt.xlabel('height (m)')\n",
    "plt.ylabel('velocity (m/s)')\n",
    "plt.show()"
   ]
  },
  {
   "cell_type": "markdown",
   "metadata": {},
   "source": [
    "<h1> Directories </h1>\n",
    "\n",
    "When you're working on projects, especially when they get fairly large, you'll often need to manage multiple python files, and load or save data.\n",
    "\n",
    "Let's say we have a `.txt` datafile that we want to read, plot the information contained in it, and save the plot as an image file."
   ]
  },
  {
   "cell_type": "code",
   "execution_count": 122,
   "metadata": {},
   "outputs": [],
   "source": [
    "file = open(\"data.txt\",\"r\")"
   ]
  },
  {
   "cell_type": "markdown",
   "metadata": {},
   "source": [
    "The first argument is the name of the file. If both your datafile and the python file are in the same directory all you need is the name of the file. If not, you need to include the entire path containing the folders it lies in. For example:\n",
    "```\n",
    "\"C:\\Users\\Wentao\\Documents\\2020-2021\\PhySU\\data.txt\"\n",
    "```\n",
    "The second argument corresponds to the access mode, which can be `r` for read-only or `w` for write. We are using the former.\n",
    "\n",
    "Now, we will iterate through the lines of our datafile, and append the x-values to an array called `x`, and the y-values to an array called `y`. We make use of the `split` function, which turns a string into a list, where the elements are determined by being separated by in this case a comma. Note that we must cast our data as integers, since any data from a `.txt` file will be read as a string.\n",
    "\n",
    "It is good practice to close a file after we are done with it."
   ]
  },
  {
   "cell_type": "code",
   "execution_count": 117,
   "metadata": {},
   "outputs": [
    {
     "name": "stdout",
     "output_type": "stream",
     "text": [
      "[0, 1, 2, 3, 4, 5, 6]\n",
      "[0, 1, 4, 9, 16, 25, 36]\n"
     ]
    }
   ],
   "source": [
    "file = open(\"data.txt\",\"r\")\n",
    "x,y = [], []\n",
    "\n",
    "lines = file.readlines()\n",
    "for line in lines:\n",
    "    line_data = line.split(\",\")\n",
    "    \n",
    "    x.append(int(line_data[0]))\n",
    "    y.append(int(line_data[1]))\n",
    "\n",
    "print(x)\n",
    "print(y)\n",
    "\n",
    "file.close()"
   ]
  },
  {
   "cell_type": "markdown",
   "metadata": {},
   "source": [
    "Next, we plot the out graph, and save it using the `savefig` function below."
   ]
  },
  {
   "cell_type": "code",
   "execution_count": 119,
   "metadata": {},
   "outputs": [
    {
     "data": {
      "image/png": "[encoded data removed]",
      "text/plain": [
       "<Figure size 432x288 with 1 Axes>"
      ]
     },
     "metadata": {
      "needs_background": "light"
     },
     "output_type": "display_data"
    }
   ],
   "source": [
    "plt.figure()\n",
    "plt.plot(x,y)\n",
    "plt.savefig('plot.png')"
   ]
  }
 ],
 "metadata": {
  "kernelspec": {
   "display_name": "Python 3",
   "language": "python",
   "name": "python3"
  },
  "language_info": {
   "codemirror_mode": {
    "name": "ipython",
    "version": 3
   },
   "file_extension": ".py",
   "mimetype": "text/x-python",
   "name": "python",
   "nbconvert_exporter": "python",
   "pygments_lexer": "ipython3",
   "version": "3.8.3"
  }
 },
 "nbformat": 4,
 "nbformat_minor": 4
}
